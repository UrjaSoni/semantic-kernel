{
 "cells": [
  {
   "attachments": {},
   "cell_type": "markdown",
   "metadata": {},
   "source": [
    "# Setup\n",
    "\n",
    "**Step 1**: Import Semantic Kernel SDK from pypi.org"
   ]
  },
  {
   "cell_type": "code",
   "execution_count": 11,
   "metadata": {},
   "outputs": [
    {
     "name": "stdout",
     "output_type": "stream",
     "text": [
      "Defaulting to user installation because normal site-packages is not writeable\n",
      "Requirement already satisfied: semantic-kernel==0.9.2b1 in /Users/urjasoni/Library/Python/3.9/lib/python/site-packages (0.9.2b1)\n",
      "Requirement already satisfied: aiohttp<4.0,>=3.8 in /Users/urjasoni/Library/Python/3.9/lib/python/site-packages (from semantic-kernel==0.9.2b1) (3.9.3)\n",
      "Requirement already satisfied: defusedxml<0.8.0,>=0.7.1 in /Users/urjasoni/Library/Python/3.9/lib/python/site-packages (from semantic-kernel==0.9.2b1) (0.7.1)\n",
      "Requirement already satisfied: grpcio>=1.50.0 in /Users/urjasoni/Library/Python/3.9/lib/python/site-packages (from semantic-kernel==0.9.2b1) (1.62.1)\n",
      "Requirement already satisfied: motor<4.0.0,>=3.3.2 in /Users/urjasoni/Library/Python/3.9/lib/python/site-packages (from semantic-kernel==0.9.2b1) (3.3.2)\n",
      "Requirement already satisfied: numpy>=1.25 in /Users/urjasoni/Library/Python/3.9/lib/python/site-packages (from semantic-kernel==0.9.2b1) (1.26.4)\n",
      "Requirement already satisfied: openai>=1.0 in /Users/urjasoni/Library/Python/3.9/lib/python/site-packages (from semantic-kernel==0.9.2b1) (1.13.3)\n",
      "Requirement already satisfied: openapi_core<0.19.0,>=0.18.0 in /Users/urjasoni/Library/Python/3.9/lib/python/site-packages (from semantic-kernel==0.9.2b1) (0.18.2)\n",
      "Requirement already satisfied: prance<24.0.0.0,>=23.6.21.0 in /Users/urjasoni/Library/Python/3.9/lib/python/site-packages (from semantic-kernel==0.9.2b1) (23.6.21.0)\n",
      "Requirement already satisfied: pydantic<3,>=2 in /Users/urjasoni/Library/Python/3.9/lib/python/site-packages (from semantic-kernel==0.9.2b1) (2.6.4)\n",
      "Requirement already satisfied: python-dotenv<2.0.0,>=1.0.1 in /Users/urjasoni/Library/Python/3.9/lib/python/site-packages (from semantic-kernel==0.9.2b1) (1.0.1)\n",
      "Requirement already satisfied: regex<2024.0.0,>=2023.6.3 in /Users/urjasoni/Library/Python/3.9/lib/python/site-packages (from semantic-kernel==0.9.2b1) (2023.12.25)\n",
      "Requirement already satisfied: scipy>=1.5.0 in /Users/urjasoni/Library/Python/3.9/lib/python/site-packages (from semantic-kernel==0.9.2b1) (1.12.0)\n",
      "Requirement already satisfied: aiosignal>=1.1.2 in /Users/urjasoni/Library/Python/3.9/lib/python/site-packages (from aiohttp<4.0,>=3.8->semantic-kernel==0.9.2b1) (1.3.1)\n",
      "Requirement already satisfied: attrs>=17.3.0 in /Users/urjasoni/Library/Python/3.9/lib/python/site-packages (from aiohttp<4.0,>=3.8->semantic-kernel==0.9.2b1) (23.2.0)\n",
      "Requirement already satisfied: frozenlist>=1.1.1 in /Users/urjasoni/Library/Python/3.9/lib/python/site-packages (from aiohttp<4.0,>=3.8->semantic-kernel==0.9.2b1) (1.4.1)\n",
      "Requirement already satisfied: multidict<7.0,>=4.5 in /Users/urjasoni/Library/Python/3.9/lib/python/site-packages (from aiohttp<4.0,>=3.8->semantic-kernel==0.9.2b1) (6.0.5)\n",
      "Requirement already satisfied: yarl<2.0,>=1.0 in /Users/urjasoni/Library/Python/3.9/lib/python/site-packages (from aiohttp<4.0,>=3.8->semantic-kernel==0.9.2b1) (1.9.4)\n",
      "Requirement already satisfied: async-timeout<5.0,>=4.0 in /Users/urjasoni/Library/Python/3.9/lib/python/site-packages (from aiohttp<4.0,>=3.8->semantic-kernel==0.9.2b1) (4.0.3)\n",
      "Requirement already satisfied: pymongo<5,>=4.5 in /Users/urjasoni/Library/Python/3.9/lib/python/site-packages (from motor<4.0.0,>=3.3.2->semantic-kernel==0.9.2b1) (4.6.2)\n",
      "Requirement already satisfied: anyio<5,>=3.5.0 in /Users/urjasoni/Library/Python/3.9/lib/python/site-packages (from openai>=1.0->semantic-kernel==0.9.2b1) (4.3.0)\n",
      "Requirement already satisfied: distro<2,>=1.7.0 in /Users/urjasoni/Library/Python/3.9/lib/python/site-packages (from openai>=1.0->semantic-kernel==0.9.2b1) (1.9.0)\n",
      "Requirement already satisfied: httpx<1,>=0.23.0 in /Users/urjasoni/Library/Python/3.9/lib/python/site-packages (from openai>=1.0->semantic-kernel==0.9.2b1) (0.27.0)\n",
      "Requirement already satisfied: sniffio in /Users/urjasoni/Library/Python/3.9/lib/python/site-packages (from openai>=1.0->semantic-kernel==0.9.2b1) (1.3.1)\n",
      "Requirement already satisfied: tqdm>4 in /Users/urjasoni/Library/Python/3.9/lib/python/site-packages (from openai>=1.0->semantic-kernel==0.9.2b1) (4.66.2)\n",
      "Requirement already satisfied: typing-extensions<5,>=4.7 in /Users/urjasoni/Library/Python/3.9/lib/python/site-packages (from openai>=1.0->semantic-kernel==0.9.2b1) (4.10.0)\n",
      "Requirement already satisfied: asgiref<4.0.0,>=3.6.0 in /Users/urjasoni/Library/Python/3.9/lib/python/site-packages (from openapi_core<0.19.0,>=0.18.0->semantic-kernel==0.9.2b1) (3.7.2)\n",
      "Requirement already satisfied: isodate in /Users/urjasoni/Library/Python/3.9/lib/python/site-packages (from openapi_core<0.19.0,>=0.18.0->semantic-kernel==0.9.2b1) (0.6.1)\n",
      "Requirement already satisfied: jsonschema<5.0.0,>=4.18.0 in /Users/urjasoni/Library/Python/3.9/lib/python/site-packages (from openapi_core<0.19.0,>=0.18.0->semantic-kernel==0.9.2b1) (4.21.1)\n",
      "Requirement already satisfied: jsonschema-spec<0.3.0,>=0.2.3 in /Users/urjasoni/Library/Python/3.9/lib/python/site-packages (from openapi_core<0.19.0,>=0.18.0->semantic-kernel==0.9.2b1) (0.2.4)\n",
      "Requirement already satisfied: more-itertools in /Users/urjasoni/Library/Python/3.9/lib/python/site-packages (from openapi_core<0.19.0,>=0.18.0->semantic-kernel==0.9.2b1) (10.2.0)\n",
      "Requirement already satisfied: openapi-schema-validator<0.7.0,>=0.6.0 in /Users/urjasoni/Library/Python/3.9/lib/python/site-packages (from openapi_core<0.19.0,>=0.18.0->semantic-kernel==0.9.2b1) (0.6.2)\n",
      "Requirement already satisfied: openapi-spec-validator<0.8.0,>=0.7.1 in /Users/urjasoni/Library/Python/3.9/lib/python/site-packages (from openapi_core<0.19.0,>=0.18.0->semantic-kernel==0.9.2b1) (0.7.1)\n",
      "Requirement already satisfied: parse in /Users/urjasoni/Library/Python/3.9/lib/python/site-packages (from openapi_core<0.19.0,>=0.18.0->semantic-kernel==0.9.2b1) (1.20.1)\n",
      "Requirement already satisfied: werkzeug in /Users/urjasoni/Library/Python/3.9/lib/python/site-packages (from openapi_core<0.19.0,>=0.18.0->semantic-kernel==0.9.2b1) (3.0.1)\n",
      "Requirement already satisfied: chardet>=3.0 in /Users/urjasoni/Library/Python/3.9/lib/python/site-packages (from prance<24.0.0.0,>=23.6.21.0->semantic-kernel==0.9.2b1) (5.2.0)\n",
      "Requirement already satisfied: ruamel.yaml>=0.17.10 in /Users/urjasoni/Library/Python/3.9/lib/python/site-packages (from prance<24.0.0.0,>=23.6.21.0->semantic-kernel==0.9.2b1) (0.18.6)\n",
      "Requirement already satisfied: requests>=2.25 in /Users/urjasoni/Library/Python/3.9/lib/python/site-packages (from prance<24.0.0.0,>=23.6.21.0->semantic-kernel==0.9.2b1) (2.31.0)\n",
      "Requirement already satisfied: six~=1.15 in /Library/Developer/CommandLineTools/Library/Frameworks/Python3.framework/Versions/3.9/lib/python3.9/site-packages (from prance<24.0.0.0,>=23.6.21.0->semantic-kernel==0.9.2b1) (1.15.0)\n",
      "Requirement already satisfied: packaging>=21.3 in /Users/urjasoni/Library/Python/3.9/lib/python/site-packages (from prance<24.0.0.0,>=23.6.21.0->semantic-kernel==0.9.2b1) (23.0)\n",
      "Requirement already satisfied: annotated-types>=0.4.0 in /Users/urjasoni/Library/Python/3.9/lib/python/site-packages (from pydantic<3,>=2->semantic-kernel==0.9.2b1) (0.6.0)\n",
      "Requirement already satisfied: pydantic-core==2.16.3 in /Users/urjasoni/Library/Python/3.9/lib/python/site-packages (from pydantic<3,>=2->semantic-kernel==0.9.2b1) (2.16.3)\n",
      "Requirement already satisfied: idna>=2.8 in /Users/urjasoni/Library/Python/3.9/lib/python/site-packages (from anyio<5,>=3.5.0->openai>=1.0->semantic-kernel==0.9.2b1) (3.6)\n",
      "Requirement already satisfied: exceptiongroup>=1.0.2 in /Users/urjasoni/Library/Python/3.9/lib/python/site-packages (from anyio<5,>=3.5.0->openai>=1.0->semantic-kernel==0.9.2b1) (1.2.0)\n",
      "Requirement already satisfied: certifi in /Users/urjasoni/Library/Python/3.9/lib/python/site-packages (from httpx<1,>=0.23.0->openai>=1.0->semantic-kernel==0.9.2b1) (2024.2.2)\n",
      "Requirement already satisfied: httpcore==1.* in /Users/urjasoni/Library/Python/3.9/lib/python/site-packages (from httpx<1,>=0.23.0->openai>=1.0->semantic-kernel==0.9.2b1) (1.0.4)\n",
      "Requirement already satisfied: h11<0.15,>=0.13 in /Users/urjasoni/Library/Python/3.9/lib/python/site-packages (from httpcore==1.*->httpx<1,>=0.23.0->openai>=1.0->semantic-kernel==0.9.2b1) (0.14.0)\n",
      "Requirement already satisfied: jsonschema-specifications>=2023.03.6 in /Users/urjasoni/Library/Python/3.9/lib/python/site-packages (from jsonschema<5.0.0,>=4.18.0->openapi_core<0.19.0,>=0.18.0->semantic-kernel==0.9.2b1) (2023.7.1)\n",
      "Requirement already satisfied: referencing>=0.28.4 in /Users/urjasoni/Library/Python/3.9/lib/python/site-packages (from jsonschema<5.0.0,>=4.18.0->openapi_core<0.19.0,>=0.18.0->semantic-kernel==0.9.2b1) (0.30.2)\n",
      "Requirement already satisfied: rpds-py>=0.7.1 in /Users/urjasoni/Library/Python/3.9/lib/python/site-packages (from jsonschema<5.0.0,>=4.18.0->openapi_core<0.19.0,>=0.18.0->semantic-kernel==0.9.2b1) (0.18.0)\n",
      "Requirement already satisfied: PyYAML>=5.1 in /Users/urjasoni/Library/Python/3.9/lib/python/site-packages (from jsonschema-spec<0.3.0,>=0.2.3->openapi_core<0.19.0,>=0.18.0->semantic-kernel==0.9.2b1) (6.0)\n",
      "Requirement already satisfied: pathable<0.5.0,>=0.4.1 in /Users/urjasoni/Library/Python/3.9/lib/python/site-packages (from jsonschema-spec<0.3.0,>=0.2.3->openapi_core<0.19.0,>=0.18.0->semantic-kernel==0.9.2b1) (0.4.3)\n",
      "Requirement already satisfied: rfc3339-validator in /Users/urjasoni/Library/Python/3.9/lib/python/site-packages (from openapi-schema-validator<0.7.0,>=0.6.0->openapi_core<0.19.0,>=0.18.0->semantic-kernel==0.9.2b1) (0.1.4)\n",
      "Requirement already satisfied: jsonschema-path<0.4.0,>=0.3.1 in /Users/urjasoni/Library/Python/3.9/lib/python/site-packages (from openapi-spec-validator<0.8.0,>=0.7.1->openapi_core<0.19.0,>=0.18.0->semantic-kernel==0.9.2b1) (0.3.2)\n",
      "Requirement already satisfied: lazy-object-proxy<2.0.0,>=1.7.1 in /Users/urjasoni/Library/Python/3.9/lib/python/site-packages (from openapi-spec-validator<0.8.0,>=0.7.1->openapi_core<0.19.0,>=0.18.0->semantic-kernel==0.9.2b1) (1.10.0)\n",
      "Requirement already satisfied: dnspython<3.0.0,>=1.16.0 in /Users/urjasoni/Library/Python/3.9/lib/python/site-packages (from pymongo<5,>=4.5->motor<4.0.0,>=3.3.2->semantic-kernel==0.9.2b1) (2.6.1)\n",
      "Requirement already satisfied: charset-normalizer<4,>=2 in /Users/urjasoni/Library/Python/3.9/lib/python/site-packages (from requests>=2.25->prance<24.0.0.0,>=23.6.21.0->semantic-kernel==0.9.2b1) (3.3.2)\n",
      "Requirement already satisfied: urllib3<3,>=1.21.1 in /Users/urjasoni/Library/Python/3.9/lib/python/site-packages (from requests>=2.25->prance<24.0.0.0,>=23.6.21.0->semantic-kernel==0.9.2b1) (2.2.1)\n",
      "Requirement already satisfied: ruamel.yaml.clib>=0.2.7 in /Users/urjasoni/Library/Python/3.9/lib/python/site-packages (from ruamel.yaml>=0.17.10->prance<24.0.0.0,>=23.6.21.0->semantic-kernel==0.9.2b1) (0.2.8)\n",
      "Requirement already satisfied: MarkupSafe>=2.1.1 in /Users/urjasoni/Library/Python/3.9/lib/python/site-packages (from werkzeug->openapi_core<0.19.0,>=0.18.0->semantic-kernel==0.9.2b1) (2.1.1)\n"
     ]
    }
   ],
   "source": [
    "!pip install semantic-kernel==0.9.2b1"
   ]
  },
  {
   "cell_type": "code",
   "execution_count": 12,
   "metadata": {},
   "outputs": [
    {
     "name": "stdout",
     "output_type": "stream",
     "text": [
      "3.9.6 (default, Feb  3 2024, 15:58:27) \n",
      "[Clang 15.0.0 (clang-1500.3.9.4)]\n",
      "False\n"
     ]
    }
   ],
   "source": [
    "import sys\n",
    "\n",
    "# Check Python version\n",
    "print(sys.version)\n",
    "\n",
    "# Check if the path to semantic-kernel is in sys.path\n",
    "print('/opt/homebrew/lib/python3.10/site-packages' in sys.path)\n"
   ]
  },
  {
   "cell_type": "code",
   "execution_count": 13,
   "metadata": {},
   "outputs": [
    {
     "name": "stdout",
     "output_type": "stream",
     "text": [
      "Defaulting to user installation because normal site-packages is not writeable\n",
      "Requirement already satisfied: semantic-kernel==0.9.2b1 in /Users/urjasoni/Library/Python/3.9/lib/python/site-packages (0.9.2b1)\n",
      "Requirement already satisfied: aiohttp<4.0,>=3.8 in /Users/urjasoni/Library/Python/3.9/lib/python/site-packages (from semantic-kernel==0.9.2b1) (3.9.3)\n",
      "Requirement already satisfied: defusedxml<0.8.0,>=0.7.1 in /Users/urjasoni/Library/Python/3.9/lib/python/site-packages (from semantic-kernel==0.9.2b1) (0.7.1)\n",
      "Requirement already satisfied: grpcio>=1.50.0 in /Users/urjasoni/Library/Python/3.9/lib/python/site-packages (from semantic-kernel==0.9.2b1) (1.62.1)\n",
      "Requirement already satisfied: motor<4.0.0,>=3.3.2 in /Users/urjasoni/Library/Python/3.9/lib/python/site-packages (from semantic-kernel==0.9.2b1) (3.3.2)\n",
      "Requirement already satisfied: numpy>=1.25 in /Users/urjasoni/Library/Python/3.9/lib/python/site-packages (from semantic-kernel==0.9.2b1) (1.26.4)\n",
      "Requirement already satisfied: openai>=1.0 in /Users/urjasoni/Library/Python/3.9/lib/python/site-packages (from semantic-kernel==0.9.2b1) (1.13.3)\n",
      "Requirement already satisfied: openapi_core<0.19.0,>=0.18.0 in /Users/urjasoni/Library/Python/3.9/lib/python/site-packages (from semantic-kernel==0.9.2b1) (0.18.2)\n",
      "Requirement already satisfied: prance<24.0.0.0,>=23.6.21.0 in /Users/urjasoni/Library/Python/3.9/lib/python/site-packages (from semantic-kernel==0.9.2b1) (23.6.21.0)\n",
      "Requirement already satisfied: pydantic<3,>=2 in /Users/urjasoni/Library/Python/3.9/lib/python/site-packages (from semantic-kernel==0.9.2b1) (2.6.4)\n",
      "Requirement already satisfied: python-dotenv<2.0.0,>=1.0.1 in /Users/urjasoni/Library/Python/3.9/lib/python/site-packages (from semantic-kernel==0.9.2b1) (1.0.1)\n",
      "Requirement already satisfied: regex<2024.0.0,>=2023.6.3 in /Users/urjasoni/Library/Python/3.9/lib/python/site-packages (from semantic-kernel==0.9.2b1) (2023.12.25)\n",
      "Requirement already satisfied: scipy>=1.5.0 in /Users/urjasoni/Library/Python/3.9/lib/python/site-packages (from semantic-kernel==0.9.2b1) (1.12.0)\n",
      "Requirement already satisfied: aiosignal>=1.1.2 in /Users/urjasoni/Library/Python/3.9/lib/python/site-packages (from aiohttp<4.0,>=3.8->semantic-kernel==0.9.2b1) (1.3.1)\n",
      "Requirement already satisfied: attrs>=17.3.0 in /Users/urjasoni/Library/Python/3.9/lib/python/site-packages (from aiohttp<4.0,>=3.8->semantic-kernel==0.9.2b1) (23.2.0)\n",
      "Requirement already satisfied: frozenlist>=1.1.1 in /Users/urjasoni/Library/Python/3.9/lib/python/site-packages (from aiohttp<4.0,>=3.8->semantic-kernel==0.9.2b1) (1.4.1)\n",
      "Requirement already satisfied: multidict<7.0,>=4.5 in /Users/urjasoni/Library/Python/3.9/lib/python/site-packages (from aiohttp<4.0,>=3.8->semantic-kernel==0.9.2b1) (6.0.5)\n",
      "Requirement already satisfied: yarl<2.0,>=1.0 in /Users/urjasoni/Library/Python/3.9/lib/python/site-packages (from aiohttp<4.0,>=3.8->semantic-kernel==0.9.2b1) (1.9.4)\n",
      "Requirement already satisfied: async-timeout<5.0,>=4.0 in /Users/urjasoni/Library/Python/3.9/lib/python/site-packages (from aiohttp<4.0,>=3.8->semantic-kernel==0.9.2b1) (4.0.3)\n",
      "Requirement already satisfied: pymongo<5,>=4.5 in /Users/urjasoni/Library/Python/3.9/lib/python/site-packages (from motor<4.0.0,>=3.3.2->semantic-kernel==0.9.2b1) (4.6.2)\n",
      "Requirement already satisfied: anyio<5,>=3.5.0 in /Users/urjasoni/Library/Python/3.9/lib/python/site-packages (from openai>=1.0->semantic-kernel==0.9.2b1) (4.3.0)\n",
      "Requirement already satisfied: distro<2,>=1.7.0 in /Users/urjasoni/Library/Python/3.9/lib/python/site-packages (from openai>=1.0->semantic-kernel==0.9.2b1) (1.9.0)\n",
      "Requirement already satisfied: httpx<1,>=0.23.0 in /Users/urjasoni/Library/Python/3.9/lib/python/site-packages (from openai>=1.0->semantic-kernel==0.9.2b1) (0.27.0)\n",
      "Requirement already satisfied: sniffio in /Users/urjasoni/Library/Python/3.9/lib/python/site-packages (from openai>=1.0->semantic-kernel==0.9.2b1) (1.3.1)\n",
      "Requirement already satisfied: tqdm>4 in /Users/urjasoni/Library/Python/3.9/lib/python/site-packages (from openai>=1.0->semantic-kernel==0.9.2b1) (4.66.2)\n",
      "Requirement already satisfied: typing-extensions<5,>=4.7 in /Users/urjasoni/Library/Python/3.9/lib/python/site-packages (from openai>=1.0->semantic-kernel==0.9.2b1) (4.10.0)\n",
      "Requirement already satisfied: asgiref<4.0.0,>=3.6.0 in /Users/urjasoni/Library/Python/3.9/lib/python/site-packages (from openapi_core<0.19.0,>=0.18.0->semantic-kernel==0.9.2b1) (3.7.2)\n",
      "Requirement already satisfied: isodate in /Users/urjasoni/Library/Python/3.9/lib/python/site-packages (from openapi_core<0.19.0,>=0.18.0->semantic-kernel==0.9.2b1) (0.6.1)\n",
      "Requirement already satisfied: jsonschema<5.0.0,>=4.18.0 in /Users/urjasoni/Library/Python/3.9/lib/python/site-packages (from openapi_core<0.19.0,>=0.18.0->semantic-kernel==0.9.2b1) (4.21.1)\n",
      "Requirement already satisfied: jsonschema-spec<0.3.0,>=0.2.3 in /Users/urjasoni/Library/Python/3.9/lib/python/site-packages (from openapi_core<0.19.0,>=0.18.0->semantic-kernel==0.9.2b1) (0.2.4)\n",
      "Requirement already satisfied: more-itertools in /Users/urjasoni/Library/Python/3.9/lib/python/site-packages (from openapi_core<0.19.0,>=0.18.0->semantic-kernel==0.9.2b1) (10.2.0)\n",
      "Requirement already satisfied: openapi-schema-validator<0.7.0,>=0.6.0 in /Users/urjasoni/Library/Python/3.9/lib/python/site-packages (from openapi_core<0.19.0,>=0.18.0->semantic-kernel==0.9.2b1) (0.6.2)\n",
      "Requirement already satisfied: openapi-spec-validator<0.8.0,>=0.7.1 in /Users/urjasoni/Library/Python/3.9/lib/python/site-packages (from openapi_core<0.19.0,>=0.18.0->semantic-kernel==0.9.2b1) (0.7.1)\n",
      "Requirement already satisfied: parse in /Users/urjasoni/Library/Python/3.9/lib/python/site-packages (from openapi_core<0.19.0,>=0.18.0->semantic-kernel==0.9.2b1) (1.20.1)\n",
      "Requirement already satisfied: werkzeug in /Users/urjasoni/Library/Python/3.9/lib/python/site-packages (from openapi_core<0.19.0,>=0.18.0->semantic-kernel==0.9.2b1) (3.0.1)\n",
      "Requirement already satisfied: chardet>=3.0 in /Users/urjasoni/Library/Python/3.9/lib/python/site-packages (from prance<24.0.0.0,>=23.6.21.0->semantic-kernel==0.9.2b1) (5.2.0)\n",
      "Requirement already satisfied: ruamel.yaml>=0.17.10 in /Users/urjasoni/Library/Python/3.9/lib/python/site-packages (from prance<24.0.0.0,>=23.6.21.0->semantic-kernel==0.9.2b1) (0.18.6)\n",
      "Requirement already satisfied: requests>=2.25 in /Users/urjasoni/Library/Python/3.9/lib/python/site-packages (from prance<24.0.0.0,>=23.6.21.0->semantic-kernel==0.9.2b1) (2.31.0)\n",
      "Requirement already satisfied: six~=1.15 in /Library/Developer/CommandLineTools/Library/Frameworks/Python3.framework/Versions/3.9/lib/python3.9/site-packages (from prance<24.0.0.0,>=23.6.21.0->semantic-kernel==0.9.2b1) (1.15.0)\n",
      "Requirement already satisfied: packaging>=21.3 in /Users/urjasoni/Library/Python/3.9/lib/python/site-packages (from prance<24.0.0.0,>=23.6.21.0->semantic-kernel==0.9.2b1) (23.0)\n",
      "Requirement already satisfied: annotated-types>=0.4.0 in /Users/urjasoni/Library/Python/3.9/lib/python/site-packages (from pydantic<3,>=2->semantic-kernel==0.9.2b1) (0.6.0)\n",
      "Requirement already satisfied: pydantic-core==2.16.3 in /Users/urjasoni/Library/Python/3.9/lib/python/site-packages (from pydantic<3,>=2->semantic-kernel==0.9.2b1) (2.16.3)\n",
      "Requirement already satisfied: idna>=2.8 in /Users/urjasoni/Library/Python/3.9/lib/python/site-packages (from anyio<5,>=3.5.0->openai>=1.0->semantic-kernel==0.9.2b1) (3.6)\n",
      "Requirement already satisfied: exceptiongroup>=1.0.2 in /Users/urjasoni/Library/Python/3.9/lib/python/site-packages (from anyio<5,>=3.5.0->openai>=1.0->semantic-kernel==0.9.2b1) (1.2.0)\n",
      "Requirement already satisfied: certifi in /Users/urjasoni/Library/Python/3.9/lib/python/site-packages (from httpx<1,>=0.23.0->openai>=1.0->semantic-kernel==0.9.2b1) (2024.2.2)\n",
      "Requirement already satisfied: httpcore==1.* in /Users/urjasoni/Library/Python/3.9/lib/python/site-packages (from httpx<1,>=0.23.0->openai>=1.0->semantic-kernel==0.9.2b1) (1.0.4)\n",
      "Requirement already satisfied: h11<0.15,>=0.13 in /Users/urjasoni/Library/Python/3.9/lib/python/site-packages (from httpcore==1.*->httpx<1,>=0.23.0->openai>=1.0->semantic-kernel==0.9.2b1) (0.14.0)\n",
      "Requirement already satisfied: jsonschema-specifications>=2023.03.6 in /Users/urjasoni/Library/Python/3.9/lib/python/site-packages (from jsonschema<5.0.0,>=4.18.0->openapi_core<0.19.0,>=0.18.0->semantic-kernel==0.9.2b1) (2023.7.1)\n",
      "Requirement already satisfied: referencing>=0.28.4 in /Users/urjasoni/Library/Python/3.9/lib/python/site-packages (from jsonschema<5.0.0,>=4.18.0->openapi_core<0.19.0,>=0.18.0->semantic-kernel==0.9.2b1) (0.30.2)\n",
      "Requirement already satisfied: rpds-py>=0.7.1 in /Users/urjasoni/Library/Python/3.9/lib/python/site-packages (from jsonschema<5.0.0,>=4.18.0->openapi_core<0.19.0,>=0.18.0->semantic-kernel==0.9.2b1) (0.18.0)\n",
      "Requirement already satisfied: PyYAML>=5.1 in /Users/urjasoni/Library/Python/3.9/lib/python/site-packages (from jsonschema-spec<0.3.0,>=0.2.3->openapi_core<0.19.0,>=0.18.0->semantic-kernel==0.9.2b1) (6.0)\n",
      "Requirement already satisfied: pathable<0.5.0,>=0.4.1 in /Users/urjasoni/Library/Python/3.9/lib/python/site-packages (from jsonschema-spec<0.3.0,>=0.2.3->openapi_core<0.19.0,>=0.18.0->semantic-kernel==0.9.2b1) (0.4.3)\n",
      "Requirement already satisfied: rfc3339-validator in /Users/urjasoni/Library/Python/3.9/lib/python/site-packages (from openapi-schema-validator<0.7.0,>=0.6.0->openapi_core<0.19.0,>=0.18.0->semantic-kernel==0.9.2b1) (0.1.4)\n",
      "Requirement already satisfied: jsonschema-path<0.4.0,>=0.3.1 in /Users/urjasoni/Library/Python/3.9/lib/python/site-packages (from openapi-spec-validator<0.8.0,>=0.7.1->openapi_core<0.19.0,>=0.18.0->semantic-kernel==0.9.2b1) (0.3.2)\n",
      "Requirement already satisfied: lazy-object-proxy<2.0.0,>=1.7.1 in /Users/urjasoni/Library/Python/3.9/lib/python/site-packages (from openapi-spec-validator<0.8.0,>=0.7.1->openapi_core<0.19.0,>=0.18.0->semantic-kernel==0.9.2b1) (1.10.0)\n",
      "Requirement already satisfied: dnspython<3.0.0,>=1.16.0 in /Users/urjasoni/Library/Python/3.9/lib/python/site-packages (from pymongo<5,>=4.5->motor<4.0.0,>=3.3.2->semantic-kernel==0.9.2b1) (2.6.1)\n",
      "Requirement already satisfied: charset-normalizer<4,>=2 in /Users/urjasoni/Library/Python/3.9/lib/python/site-packages (from requests>=2.25->prance<24.0.0.0,>=23.6.21.0->semantic-kernel==0.9.2b1) (3.3.2)\n",
      "Requirement already satisfied: urllib3<3,>=1.21.1 in /Users/urjasoni/Library/Python/3.9/lib/python/site-packages (from requests>=2.25->prance<24.0.0.0,>=23.6.21.0->semantic-kernel==0.9.2b1) (2.2.1)\n",
      "Requirement already satisfied: ruamel.yaml.clib>=0.2.7 in /Users/urjasoni/Library/Python/3.9/lib/python/site-packages (from ruamel.yaml>=0.17.10->prance<24.0.0.0,>=23.6.21.0->semantic-kernel==0.9.2b1) (0.2.8)\n",
      "Requirement already satisfied: MarkupSafe>=2.1.1 in /Users/urjasoni/Library/Python/3.9/lib/python/site-packages (from werkzeug->openapi_core<0.19.0,>=0.18.0->semantic-kernel==0.9.2b1) (2.1.1)\n"
     ]
    }
   ],
   "source": [
    "!pip install semantic-kernel==0.9.2b1\n",
    "import semantic_kernel as sk\n",
    "\n",
    "kernel = sk.Kernel()"
   ]
  },
  {
   "cell_type": "markdown",
   "metadata": {},
   "source": [
    "### Configure the service you'd like to use via the `Service` Enum."
   ]
  },
  {
   "cell_type": "code",
   "execution_count": 14,
   "metadata": {},
   "outputs": [],
   "source": [
    "from services import Service\n",
    "\n",
    "# Select a service to use for this notebook (available services: OpenAI, AzureOpenAI, HuggingFace)\n",
    "selectedService = Service.AzureOpenAI"
   ]
  },
  {
   "attachments": {},
   "cell_type": "markdown",
   "metadata": {},
   "source": [
    "## Option 1: using OpenAI\n",
    "\n",
    "**Step 2**: Add your [OpenAI Key](https://openai.com/product/) key to a `.env` file in the same folder (org Id only if you have multiple orgs):\n",
    "\n",
    "```\n",
    "OPENAI_API_KEY=\"sk-...\"\n",
    "OPENAI_ORG_ID=\"\"\n",
    "```\n",
    "\n",
    "Use \"keyword arguments\" to instantiate an OpenAI Chat Completion service and add it to the kernel:\n",
    "\n",
    "## Option 2: using Azure OpenAI\n",
    "\n",
    "**Step 2**: Add your [Azure Open AI Service key](https://learn.microsoft.com/azure/cognitive-services/openai/quickstart?pivots=programming-language-studio) settings to a `.env` file in the same folder:\n",
    "\n",
    "```\n",
    "AZURE_OPENAI_API_KEY=\"...\"\n",
    "AZURE_OPENAI_ENDPOINT=\"https://...\"\n",
    "AZURE_OPENAI_DEPLOYMENT_NAME=\"...\"\n",
    "```\n",
    "\n",
    "Use \"keyword arguments\" to instantiate an Azure OpenAI Chat Completion service and add it to the kernel:"
   ]
  },
  {
   "cell_type": "code",
   "execution_count": 15,
   "metadata": {},
   "outputs": [],
   "source": [
    "service_id = None\n",
    "if selectedService == Service.OpenAI:\n",
    "    from semantic_kernel.connectors.ai.open_ai import OpenAIChatCompletion\n",
    "\n",
    "    api_key, org_id = sk.openai_settings_from_dot_env()\n",
    "    service_id = \"default\"\n",
    "    kernel.add_service(\n",
    "        OpenAIChatCompletion(service_id=service_id, ai_model_id=\"gpt-3.5-turbo-1106\", api_key=api_key, org_id=org_id),\n",
    "    )\n",
    "elif selectedService == Service.AzureOpenAI:\n",
    "    from semantic_kernel.connectors.ai.open_ai import AzureChatCompletion\n",
    "\n",
    "    deployment, api_key, endpoint = sk.azure_openai_settings_from_dot_env()\n",
    "    service_id = \"default\"\n",
    "    kernel.add_service(\n",
    "        AzureChatCompletion(service_id=service_id, deployment_name=deployment, endpoint=endpoint, api_key=api_key),\n",
    "    )"
   ]
  },
  {
   "attachments": {},
   "cell_type": "markdown",
   "metadata": {},
   "source": [
    "# Run a Semantic Function\n",
    "\n",
    "**Step 3**: Load a Plugin and run a semantic function:"
   ]
  },
  {
   "cell_type": "code",
   "execution_count": 16,
   "metadata": {},
   "outputs": [],
   "source": [
    "plugin = kernel.import_plugin_from_prompt_directory(\"../../samples/plugins\", \"FunPlugin\")"
   ]
  },
  {
   "cell_type": "code",
   "execution_count": 17,
   "metadata": {},
   "outputs": [
    {
     "name": "stdout",
     "output_type": "stream",
     "text": [
      "Why did the time traveler bring a ladder to the dinosaur age?\n",
      "\n",
      "Because he wanted to make sure he could \"climb\" back to the present!\n"
     ]
    }
   ],
   "source": [
    "joke_function = plugin[\"Joke\"]\n",
    "\n",
    "joke = await kernel.invoke(joke_function, sk.KernelArguments(input=\"time travel to dinosaur age\", style=\"super silly\"))\n",
    "print(joke)"
   ]
  }
 ],
 "metadata": {
  "kernelspec": {
   "display_name": "Python 3 (ipykernel)",
   "language": "python",
   "name": "python3"
  },
  "language_info": {
   "codemirror_mode": {
    "name": "ipython",
    "version": 3
   },
   "file_extension": ".py",
   "mimetype": "text/x-python",
   "name": "python",
   "nbconvert_exporter": "python",
   "pygments_lexer": "ipython3",
   "version": "3.9.6"
  }
 },
 "nbformat": 4,
 "nbformat_minor": 2
}
